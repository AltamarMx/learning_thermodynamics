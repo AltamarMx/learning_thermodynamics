{
 "cells": [
  {
   "cell_type": "code",
   "execution_count": 1,
   "metadata": {},
   "outputs": [],
   "source": [
    "import psychrolib as ps #DOI  10.5281/zendi.2537945\n"
   ]
  },
  {
   "cell_type": "code",
   "execution_count": 2,
   "metadata": {},
   "outputs": [],
   "source": [
    "ps.SetUnitSystem(ps.SI)"
   ]
  },
  {
   "cell_type": "markdown",
   "metadata": {},
   "source": [
    "# Experimento 1: Volumen ventilado\n",
    "\n",
    "### Suposiciones:\n",
    "\n",
    "1. aire y vapor de agua como gases ideales"
   ]
  },
  {
   "cell_type": "code",
   "execution_count": 26,
   "metadata": {},
   "outputs": [],
   "source": [
    "\n",
    "def agrega_agua(tbs,hr,mvplus,h=1510):\n",
    "    V   = 3          #Volumen [m^3]\n",
    "    Rv = 461.5       #Constante vapor de agua [J/kgK]\n",
    "    Rda = ps.R_DA_SI #Puedo calcularlo mejor con lo de Efraín\n",
    "\n",
    "    tbsK = 25+273.15\n",
    "    p = ps.GetStandardAtmPressure(h) #Presión atmosférica [Pa]\n",
    "    w,_,_,pv,H,_,_ = ps.CalcPsychrometricsFromRelHum(tbs, hr, p)\n",
    "    pa = p-pv\n",
    "\n",
    "    mas = pa*V/(Rda*tbsK) #masa de aire seco[kg]\n",
    "\n",
    "    mv = pv*V/(Rv*tbsK) #masa de vapor de agua [kg]\n",
    "    ma = mas + mv  #Masa de aire [kg]\n",
    "    w2 = (mv+mvplus)/mas\n",
    "    h2 = H\n",
    "    pv2 = ps.GetVapPresFromHumRatio(w2, p)\n",
    "\n",
    "    T2 = ps.GetTDryBulbFromEnthalpyAndHumRatio(h2, w2)\n",
    "    hr2 = ps.GetRelHumFromVapPres(T2, pv2)\n",
    "    pa = p-pv2\n",
    "    return T2, hr2\n"
   ]
  },
  {
   "cell_type": "code",
   "execution_count": 48,
   "metadata": {},
   "outputs": [
    {
     "name": "stdout",
     "output_type": "stream",
     "text": [
      "T:24.9,HR:0.60\n",
      "T:24.9,HR:0.61\n",
      "T:20.0,HR:0.95\n"
     ]
    }
   ],
   "source": [
    "\n",
    "T0   = 20        #temperatura de bulbo seco [°C]\n",
    "HR0  = 0.6        #fracción humedad relativa [-]\n",
    "h2o  = 0.0001 #Masa de agua que se agrega al sistema [kg]\n",
    "T1, HR1 = agrega_agua(T0,HR0,h2o,h=0)\n",
    "print(f'T:{T1:.1f},HR:{HR1:.2f}')\n",
    "T2, HR2 = agrega_agua(T1,HR1,h2o,h=0)\n",
    "print(f'T:{T2:.1f},HR:{HR2:.2f}')\n",
    "T3, HR3 = agrega_agua(T2,HR2,mvplus=0.0068,h=0)\n",
    "print(f'T:{T3:.1f},HR:{HR3:.2f}')\n"
   ]
  },
  {
   "cell_type": "code",
   "execution_count": 13,
   "metadata": {},
   "outputs": [
    {
     "data": {
      "text/plain": [
       "287.042"
      ]
     },
     "execution_count": 13,
     "metadata": {},
     "output_type": "execute_result"
    }
   ],
   "source": [
    " "
   ]
  },
  {
   "cell_type": "code",
   "execution_count": null,
   "metadata": {},
   "outputs": [],
   "source": []
  },
  {
   "cell_type": "code",
   "execution_count": null,
   "metadata": {},
   "outputs": [],
   "source": []
  }
 ],
 "metadata": {
  "kernelspec": {
   "display_name": "Python 3",
   "language": "python",
   "name": "python3"
  },
  "language_info": {
   "codemirror_mode": {
    "name": "ipython",
    "version": 3
   },
   "file_extension": ".py",
   "mimetype": "text/x-python",
   "name": "python",
   "nbconvert_exporter": "python",
   "pygments_lexer": "ipython3",
   "version": "3.8.5"
  }
 },
 "nbformat": 4,
 "nbformat_minor": 5
}
