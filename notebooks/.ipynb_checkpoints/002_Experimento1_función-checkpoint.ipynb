{
 "cells": [
  {
   "cell_type": "code",
   "execution_count": 45,
   "id": "75d90797",
   "metadata": {},
   "outputs": [],
   "source": [
    "import psychrolib as ps #DOI  10.5281/zendi.2537945\n"
   ]
  },
  {
   "cell_type": "code",
   "execution_count": 46,
   "id": "6e5e7176",
   "metadata": {},
   "outputs": [],
   "source": [
    "ps.SetUnitSystem(ps.SI)"
   ]
  },
  {
   "cell_type": "markdown",
   "id": "5fde63f3",
   "metadata": {},
   "source": [
    "# Experimento 1: Volumen ventilado\n",
    "\n",
    "### Suposiciones:\n",
    "\n",
    "1. aire y vapor de agua como gases ideales"
   ]
  },
  {
   "cell_type": "markdown",
   "id": "024a56c2",
   "metadata": {},
   "source": [
    "# Procedimiento"
   ]
  },
  {
   "cell_type": "code",
   "execution_count": 47,
   "id": "90f9054d",
   "metadata": {},
   "outputs": [],
   "source": [
    "#Estado 1 y 2\n",
    "\n",
    "#Condiciones iniciales:\n",
    "\n",
    "tbs = 25   #temperatura de bulbo seco [°C]\n",
    "hr  = 0.6  #humedad relativa[%]\n",
    "h   = 1510 #altura[m]\n",
    "V   = 3    #Volumen [m^3]\n",
    "Rv = 461.5 #Constante vapor de agua [J/kgK]\n",
    "Rda = ps.R_DA_SI #Puedo calcularlo mejor con lo de Efraín\n",
    "\n",
    "#Variables necesarias:\n",
    "tbsK = 25+273.15                 #Temperatura de bulbo seco [K]\n",
    "p = ps.GetStandardAtmPressure(h) #Presión atmosférica [Pa]\n",
    "\n",
    "#Uso de psycrho para calcular w, h y pv\n",
    "psychro = ps.CalcPsychrometricsFromRelHum(tbs, hr, p)\n",
    "w    = psychro[0] #Humedad específica [kg H2O/kg aire seco]\n",
    "tbh  = psychro[1] #Temperatura de bulbo húmedo [°C]\n",
    "tr   = psychro[2] #Temperatura de punto de rocío [°C]\n",
    "pv   = psychro[3] #Presión parcial de vapor de agua en aire húmedo [Pa]\n",
    "h    = psychro[4] #Entalpía de aire húmedo [J/kg]\n",
    "v    = psychro[5] #volumen específico del aire húmedo [m^3/kg]\n",
    "gs   = psychro[6] #Grado de saturación\n",
    "\n",
    "#Calculo de la masa de aire húmedo y seco\n",
    "pa = p-pv\n",
    "mas = pa*V/(Rda*tbsK) #masa de aire seco[kg]\n",
    "mv = pv*V/(Rv*tbsK)  #masa de vapor de agua [kg]\n",
    "ma = mas + mv        #Masa de aire [kg]\n",
    "\n",
    "#Estado 2\n",
    "mvplus = 0.001       #Masa de agua que se agrega al sistema [kg]\n",
    "\n",
    "w2 = (mv+mvplus)/mas\n",
    "h2 = h\n",
    "\n",
    "#Temperatura\n",
    "pv2 = ps.GetVapPresFromHumRatio(w2, p)\n",
    "T2 = ps.GetTDryBulbFromEnthalpyAndHumRatio(h, w2)\n",
    "hr2 = ps.GetRelHumFromVapPres(T2, pv2)\n",
    "pa = p-pv2"
   ]
  },
  {
   "cell_type": "code",
   "execution_count": 48,
   "id": "d45abb92",
   "metadata": {},
   "outputs": [
    {
     "name": "stdout",
     "output_type": "stream",
     "text": [
      "tbs: 24.146249337067747\n",
      "hr:  0.6463436514161097\n",
      "pv:  1946.4335279331608\n",
      "pa:  82505.7890256607\n"
     ]
    }
   ],
   "source": [
    "tbs = 25   #temperatura de bulbo seco [°C]\n",
    "hr  = 0.6  #humedad relativa[%]\n",
    "h   = 1510 #altura[m]\n",
    "V   = 3    #Volumen [m^3]\n",
    "Rv = 461.5 #Constante vapor de agua [J/kgK]\n",
    "Rda = ps.R_DA_SI #Puedo calcularlo mejor con lo de Efraín\n",
    "\n",
    "if (hr<1):\n",
    "    \n",
    "    #Variables necesarias:\n",
    "    tbsK = 25+273.15                 #Temperatura de bulbo seco [K]\n",
    "    p = ps.GetStandardAtmPressure(h) #Presión atmosférica [Pa]\n",
    "    \n",
    "    #Uso de psycrho para calcular w, h y pv\n",
    "    psychro = ps.CalcPsychrometricsFromRelHum(tbs, hr, p)\n",
    "    w    = psychro[0] #Humedad específica [kg H2O/kg aire seco]\n",
    "    pv   = psychro[3] #Presión parcial de vapor de agua en aire húmedo [Pa]\n",
    "    h    = psychro[4] #Entalpía de aire húmedo [J/kg]\n",
    "    v    = psychro[5] #volumen específico del aire húmedo [m^3/kg]\n",
    "    gs   = psychro[6] #Grado de saturación\n",
    "    \n",
    "    #Calculo de la masa de aire húmedo y seco\n",
    "    pa = p-pv\n",
    "    mas = pa*V/(Rda*tbsK) #masa de aire seco[kg]\n",
    "    mv = pv*V/(Rv*tbsK)  #masa de vapor de agua [kg]\n",
    "    ma = mas + mv        #Masa de aire [kg]\n",
    "    \n",
    "    mvplus = 0.001       #Masa de agua que se agrega al sistema [kg]\n",
    "    w2 = (mv+mvplus)/mas\n",
    "    h2 = h\n",
    "    \n",
    "    #Temperatura\n",
    "    pv2 = ps.GetVapPresFromHumRatio(w2, p)\n",
    "    tbs2 = ps.GetTDryBulbFromEnthalpyAndHumRatio(h, w2)\n",
    "    hr2 = ps.GetRelHumFromVapPres(T2, pv2)\n",
    "    pa = p-pv2\n",
    "    print(f\"tbs: {tbs2}\")\n",
    "    print(f\"hr:  {hr2}\")\n",
    "    print(f\"pv:  {pv2}\")\n",
    "    print(f\"pa:  {pa}\")\n",
    "    "
   ]
  },
  {
   "cell_type": "code",
   "execution_count": null,
   "id": "b5a02025",
   "metadata": {},
   "outputs": [],
   "source": []
  },
  {
   "cell_type": "code",
   "execution_count": 48,
   "id": "f879eb2a",
   "metadata": {},
   "outputs": [
    {
     "name": "stdout",
     "output_type": "stream",
     "text": [
      "tbs: 24.146249337067747\n",
      "hr:  0.6463436514161097\n",
      "pv:  1946.4335279331608\n",
      "pa:  82505.7890256607\n"
     ]
    }
   ],
   "source": [
    "tbs = 25   #temperatura de bulbo seco [°C]\n",
    "hr  = 0.6  #humedad relativa[%]\n",
    "h   = 1510 #altura[m]\n",
    "V   = 3    #Volumen [m^3]\n",
    "Rv = 461.5 #Constante vapor de agua [J/kgK]\n",
    "Rda = ps.R_DA_SI #Puedo calcularlo mejor con lo de Efraín\n",
    "\n",
    "if (hr<1):\n",
    "    \n",
    "    #Variables necesarias:\n",
    "    tbsK = 25+273.15                 #Temperatura de bulbo seco [K]\n",
    "    p = ps.GetStandardAtmPressure(h) #Presión atmosférica [Pa]\n",
    "    \n",
    "    #Uso de psycrho para calcular w, h y pv\n",
    "    psychro = ps.CalcPsychrometricsFromRelHum(tbs, hr, p)\n",
    "    w    = psychro[0] #Humedad específica [kg H2O/kg aire seco]\n",
    "    pv   = psychro[3] #Presión parcial de vapor de agua en aire húmedo [Pa]\n",
    "    h    = psychro[4] #Entalpía de aire húmedo [J/kg]\n",
    "    v    = psychro[5] #volumen específico del aire húmedo [m^3/kg]\n",
    "    gs   = psychro[6] #Grado de saturación\n",
    "    \n",
    "    #Calculo de la masa de aire húmedo y seco\n",
    "    pa = p-pv\n",
    "    mas = pa*V/(Rda*tbsK) #masa de aire seco[kg]\n",
    "    mv = pv*V/(Rv*tbsK)  #masa de vapor de agua [kg]\n",
    "    ma = mas + mv        #Masa de aire [kg]\n",
    "    \n",
    "    mvplus = 0.001       #Masa de agua que se agrega al sistema [kg]\n",
    "    w2 = (mv+mvplus)/mas\n",
    "    h2 = h\n",
    "    \n",
    "    #Temperatura\n",
    "    pv2 = ps.GetVapPresFromHumRatio(w2, p)\n",
    "    tbs2 = ps.GetTDryBulbFromEnthalpyAndHumRatio(h, w2)\n",
    "    hr2 = ps.GetRelHumFromVapPres(T2, pv2)\n",
    "    pa = p-pv2\n",
    "    print(f\"tbs: {tbs2}\")\n",
    "    print(f\"hr:  {hr2}\")\n",
    "    print(f\"pv:  {pv2}\")\n",
    "    print(f\"pa:  {pa}\")\n",
    "    "
   ]
  },
  {
   "cell_type": "code",
   "execution_count": null,
   "id": "06ee3a91",
   "metadata": {},
   "outputs": [],
   "source": [
    "#Cuánto no se evaporó"
   ]
  }
 ],
 "metadata": {
  "kernelspec": {
   "display_name": "Python 3 (ipykernel)",
   "language": "python",
   "name": "python3"
  },
  "language_info": {
   "codemirror_mode": {
    "name": "ipython",
    "version": 3
   },
   "file_extension": ".py",
   "mimetype": "text/x-python",
   "name": "python",
   "nbconvert_exporter": "python",
   "pygments_lexer": "ipython3",
   "version": "3.10.5"
  }
 },
 "nbformat": 4,
 "nbformat_minor": 5
}
