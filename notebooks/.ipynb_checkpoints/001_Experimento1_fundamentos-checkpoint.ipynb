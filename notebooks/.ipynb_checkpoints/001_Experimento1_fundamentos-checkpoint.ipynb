{
 "cells": [
  {
   "cell_type": "code",
   "execution_count": 1,
   "id": "23287ba6",
   "metadata": {},
   "outputs": [],
   "source": [
    "import psychrolib as ps #DOI  10.5281/zendi.2537945\n"
   ]
  },
  {
   "cell_type": "code",
   "execution_count": 2,
   "id": "e5a33420",
   "metadata": {},
   "outputs": [],
   "source": [
    "ps.SetUnitSystem(ps.SI)"
   ]
  },
  {
   "cell_type": "markdown",
   "id": "ea9d445f",
   "metadata": {},
   "source": [
    "# Experimento 1: Volumen ventilado\n",
    "\n",
    "### Suposiciones:\n",
    "\n",
    "1. aire y vapor de agua como gases ideales"
   ]
  },
  {
   "cell_type": "code",
   "execution_count": 3,
   "id": "5ac8c73d",
   "metadata": {},
   "outputs": [],
   "source": [
    "# Condiciones iniciales\n",
    "\n",
    "tbs = 25         #temperatura de bulbo seco [°C]\n",
    "hr  = 0.6        #fracción humedad relativa [-]\n",
    "h   = 1510       #altura[msnm]\n",
    "V   = 3          #Volumen [m^3]\n",
    "    \n",
    "Rv = 461.5       #Constante vapor de agua [J/kgK]\n",
    "Rda = ps.R_DA_SI #Puedo calcularlo mejor con lo de Efraín"
   ]
  },
  {
   "cell_type": "code",
   "execution_count": 4,
   "id": "12cbcc3d",
   "metadata": {},
   "outputs": [],
   "source": [
    "tbsK = 25+273.15\n",
    "p = ps.GetStandardAtmPressure(h) #Presión atmosférica [Pa]"
   ]
  },
  {
   "cell_type": "code",
   "execution_count": 5,
   "id": "fdda424e",
   "metadata": {},
   "outputs": [],
   "source": [
    "#psychro = ps.CalcPsychrometricsFromRelHum(tbs, hr, p)\n",
    "#\n",
    "#w    = psychro[0] #Humedad específica [kg H2O/kg aire seco]\n",
    "#tbh  = psychro[1] #Temperatura de bulbo húmedo [°C]\n",
    "#tr   = psychro[2] #Temperatura de punto de rocío [°C]\n",
    "#pv   = psychro[3] #Presión parcial de vapor de agua en aire húmedo [Pa]\n",
    "#h    = psychro[4] #Entalpía de aire húmedo [J/kg]\n",
    "#v    = psychro[5] #volumen específico del aire húmedo [m^3/kg]\n",
    "#gs   = psychro[6] #Grado de saturación\n",
    "\n",
    "w,_,_,pv,h,*_ = ps.CalcPsychrometricsFromRelHum(tbs, hr, p)"
   ]
  },
  {
   "cell_type": "code",
   "execution_count": 6,
   "id": "62bc2092",
   "metadata": {
    "scrolled": true
   },
   "outputs": [
    {
     "data": {
      "text/plain": [
       "0.01432631228450342"
      ]
     },
     "execution_count": 6,
     "metadata": {},
     "output_type": "execute_result"
    }
   ],
   "source": [
    "w"
   ]
  },
  {
   "cell_type": "code",
   "execution_count": 7,
   "id": "86f66ee6",
   "metadata": {},
   "outputs": [],
   "source": [
    "pa = p-pv\n",
    "mas = pa*V/(Rda*tbsK) #masa de aire seco[kg]"
   ]
  },
  {
   "cell_type": "code",
   "execution_count": 12,
   "id": "1665ea2d",
   "metadata": {},
   "outputs": [],
   "source": [
    "#Volumen ventilado --> la presión atmosférica se mantiene constante\n",
    "#Cambia tbs y razón de humedad\n",
    "\n",
    "mv = pv*V/(Rv*tbsK) #masa de vapor de agua [kg]\n",
    "ma = mas + mv  #Masa de aire [kg]\n",
    "\n",
    "mvplus = 0.011 #Masa de agua que se agrega al sistema [kg]"
   ]
  },
  {
   "cell_type": "code",
   "execution_count": 13,
   "id": "bc8d5228",
   "metadata": {},
   "outputs": [
    {
     "data": {
      "text/plain": [
       "61646.28054477246"
      ]
     },
     "execution_count": 13,
     "metadata": {},
     "output_type": "execute_result"
    }
   ],
   "source": [
    "#Puedo calcular T2 con nueva razón de humedad y misma entalpía\n",
    "#Suposición: toda agua que sale se evapora\n",
    "#la masa de aire seco en la misma\n",
    "\n",
    "w2 = (mv+mvplus)/mas\n",
    "h2 = h\n",
    "h2"
   ]
  },
  {
   "cell_type": "code",
   "execution_count": 14,
   "id": "7639721e",
   "metadata": {},
   "outputs": [
    {
     "data": {
      "text/plain": [
       "15.684389407209329"
      ]
     },
     "execution_count": 14,
     "metadata": {},
     "output_type": "execute_result"
    }
   ],
   "source": [
    "#Temperatura\n",
    "pv2 = ps.GetVapPresFromHumRatio(w2, p)\n",
    "\n",
    "T2 = ps.GetTDryBulbFromEnthalpyAndHumRatio(h, w2)\n",
    "T2"
   ]
  },
  {
   "cell_type": "code",
   "execution_count": 15,
   "id": "a224ac5c",
   "metadata": {},
   "outputs": [
    {
     "data": {
      "text/plain": [
       "1.3421762339890364"
      ]
     },
     "execution_count": 15,
     "metadata": {},
     "output_type": "execute_result"
    }
   ],
   "source": [
    "#Hr, tbs, mv, pa, \n",
    "#psychrolib.GetRelHumFromVapPres\n",
    "hr2 = ps.GetRelHumFromVapPres(T2, pv2)\n",
    "pa = p-pv2\n",
    "\n",
    "hr2"
   ]
  },
  {
   "cell_type": "code",
   "execution_count": null,
   "id": "dffcab31",
   "metadata": {},
   "outputs": [],
   "source": []
  },
  {
   "cell_type": "code",
   "execution_count": null,
   "id": "04584da8",
   "metadata": {},
   "outputs": [],
   "source": []
  }
 ],
 "metadata": {
  "kernelspec": {
   "display_name": "Python 3 (ipykernel)",
   "language": "python",
   "name": "python3"
  },
  "language_info": {
   "codemirror_mode": {
    "name": "ipython",
    "version": 3
   },
   "file_extension": ".py",
   "mimetype": "text/x-python",
   "name": "python",
   "nbconvert_exporter": "python",
   "pygments_lexer": "ipython3",
   "version": "3.10.5"
  }
 },
 "nbformat": 4,
 "nbformat_minor": 5
}
